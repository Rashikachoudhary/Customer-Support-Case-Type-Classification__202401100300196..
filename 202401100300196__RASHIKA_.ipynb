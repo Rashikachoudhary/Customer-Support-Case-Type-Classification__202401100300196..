{
  "nbformat": 4,
  "nbformat_minor": 0,
  "metadata": {
    "colab": {
      "provenance": []
    },
    "kernelspec": {
      "name": "python3",
      "display_name": "Python 3"
    },
    "language_info": {
      "name": "python"
    }
  },
  "cells": [
    {
      "cell_type": "code",
      "source": [
        "import pandas as pd\n",
        "from sklearn.model_selection import train_test_split\n",
        "from sklearn.pipeline import Pipeline\n",
        "from sklearn.feature_extraction.text import TfidfVectorizer\n",
        "from sklearn.linear_model import LogisticRegression\n",
        "from sklearn.metrics import classification_report, accuracy_score\n",
        "import joblib\n",
        "\n",
        "# === STEP 1: Load CSV ===\n",
        "df = pd.read_csv('/content/support_cases.csv')  # Replace with your CSV path\n",
        "\n",
        "# Print available columns\n",
        "print(\"Available columns:\", df.columns.tolist())\n",
        "\n",
        "# Try to detect the correct column names\n",
        "text_col = None\n",
        "label_col = None\n",
        "\n",
        "# Guess text and label columns (you can hardcode them too if you know)\n",
        "for col in df.columns:\n",
        "    if 'text' in col.lower() or 'message' in col.lower() or 'query' in col.lower():\n",
        "        text_col = col\n",
        "    if 'label' in col.lower() or 'category' in col.lower() or 'type' in col.lower():\n",
        "        label_col = col\n",
        "\n",
        "# Raise errors if not found\n",
        "if not text_col or not label_col:\n",
        "    raise ValueError(\"Could not detect 'text' or 'category' columns. Please check your CSV column names.\")\n",
        "\n",
        "# === STEP 2: Preprocess ===\n",
        "df = df[[text_col, label_col]].dropna()\n",
        "df[text_col] = df[text_col].astype(str).str.lower()\n",
        "\n",
        "# === STEP 3: Split dataset ===\n",
        "X_train, X_test, y_train, y_test = train_test_split(df[text_col], df[label_col], test_size=0.2, random_state=42)\n",
        "\n",
        "# === STEP 4: Build Pipeline ===\n",
        "pipeline = Pipeline([\n",
        "    ('tfidf', TfidfVectorizer(stop_words='english')),\n",
        "    ('clf', LogisticRegression(max_iter=1000))\n",
        "])\n",
        "\n",
        "# === STEP 5: Train Model ===\n",
        "pipeline.fit(X_train, y_train)\n",
        "\n",
        "# === STEP 6: Evaluate Model ===\n",
        "y_pred = pipeline.predict(X_test)\n",
        "print(\"\\nAccuracy:\", accuracy_score(y_test, y_pred))\n",
        "print(\"\\nClassification Report:\\n\", classification_report(y_test, y_pred))\n",
        "\n",
        "# === STEP 7: Save Model ===\n",
        "joblib.dump(pipeline, 'support_case_classifier.pkl')\n",
        "\n",
        "# === STEP 8: Predict New Cases ===\n",
        "new_cases = [\n",
        "    \"I need help with my subscription payment.\",\n",
        "    \"The software crashes when I try to export a file.\",\n",
        "    \"Can you tell me your working hours?\"\n",
        "]\n",
        "\n",
        "preds = pipeline.predict(new_cases)\n",
        "print(\"\\nPredictions:\")\n",
        "for case, pred in zip(new_cases, preds):\n",
        "    print(f\" - \\\"{case}\\\" → {pred}\")\n"
      ],
      "metadata": {
        "colab": {
          "base_uri": "https://localhost:8080/"
        },
        "id": "kupjOB-N0Ju1",
        "outputId": "c3528824-e58e-43ee-cfeb-502a14ffd65e"
      },
      "execution_count": 9,
      "outputs": [
        {
          "output_type": "stream",
          "name": "stdout",
          "text": [
            "Available columns: ['message_length', 'response_time', 'case_type']\n",
            "\n",
            "Accuracy: 0.3\n",
            "\n",
            "Classification Report:\n",
            "               precision    recall  f1-score   support\n",
            "\n",
            "     billing       0.50      0.09      0.15        11\n",
            "     general       0.29      1.00      0.45         5\n",
            "   technical       0.00      0.00      0.00         4\n",
            "\n",
            "    accuracy                           0.30        20\n",
            "   macro avg       0.26      0.36      0.20        20\n",
            "weighted avg       0.35      0.30      0.20        20\n",
            "\n",
            "\n",
            "Predictions:\n",
            " - \"I need help with my subscription payment.\" → general\n",
            " - \"The software crashes when I try to export a file.\" → general\n",
            " - \"Can you tell me your working hours?\" → general\n"
          ]
        }
      ]
    }
  ]
}